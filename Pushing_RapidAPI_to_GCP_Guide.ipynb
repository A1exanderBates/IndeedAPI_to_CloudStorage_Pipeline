{
  "nbformat": 4,
  "nbformat_minor": 0,
  "metadata": {
    "colab": {
      "name": "Pushing_RapidAPI_to_GCP_Guide.ipynb",
      "provenance": [],
      "include_colab_link": true
    },
    "kernelspec": {
      "name": "python3",
      "display_name": "Python 3"
    },
    "language_info": {
      "name": "python"
    }
  },
  "cells": [
    {
      "cell_type": "markdown",
      "metadata": {
        "id": "view-in-github",
        "colab_type": "text"
      },
      "source": [
        "<a href=\"https://colab.research.google.com/github/A1exanderBates/IndeedAPI_to_CloudStorage_Pipeline/blob/main/Pushing_RapidAPI_to_GCP_Guide.ipynb\" target=\"_parent\"><img src=\"https://colab.research.google.com/assets/colab-badge.svg\" alt=\"Open In Colab\"/></a>"
      ]
    },
    {
      "cell_type": "markdown",
      "source": [
        "# Guide to Using RapidAPI with Google Cloud"
      ],
      "metadata": {
        "id": "Ic0NZKGKi3xz"
      }
    },
    {
      "cell_type": "markdown",
      "source": [
        "Step 1. Import Libraries"
      ],
      "metadata": {
        "id": "_d3UZLnOiUQe"
      }
    },
    {
      "cell_type": "code",
      "source": [
        "import requests\n",
        "import pandas as pd\n",
        "import json\n",
        "from google.cloud import storage"
      ],
      "metadata": {
        "id": "niQ_koy-iSTO"
      },
      "execution_count": 1,
      "outputs": []
    },
    {
      "cell_type": "markdown",
      "source": [
        "Step 2. Copy/Paste the Rapid API code"
      ],
      "metadata": {
        "id": "RWwD3EEviYkn"
      }
    },
    {
      "cell_type": "code",
      "source": [
        "url = \"https://indeed11.p.rapidapi.com/\"\n",
        "\n",
        "\n",
        "payload = {\n",
        "    \"search_terms\": \"data visualization\",\n",
        "    \"location\": \"New York City, NY\",\n",
        "    \"page\": 1,\n",
        "    \"fetch_full_text\": \"yes\"\n",
        "}\n",
        "\n",
        "headers = {\n",
        "\t\"content-type\": \"application/json\",\n",
        "\t\"X-RapidAPI-Key\": \"{api key here}\", # insert here,\n",
        "\t\"X-RapidAPI-Host\": \"indeed11.p.rapidapi.com\"\n",
        "}\n",
        "my_list = []\n",
        "\n",
        "response = requests.request(\"POST\", url, json=payload, headers=headers)"
      ],
      "metadata": {
        "id": "McmprhCsimgY"
      },
      "execution_count": 2,
      "outputs": []
    },
    {
      "cell_type": "markdown",
      "source": [
        "Step 3. Convert the response to JSON format and assign to a variable"
      ],
      "metadata": {
        "id": "zR9XQn1Sirdg"
      }
    },
    {
      "cell_type": "code",
      "source": [
        "raw_json_str = response.json()"
      ],
      "metadata": {
        "id": "HEdM2A-jixUy"
      },
      "execution_count": 3,
      "outputs": []
    },
    {
      "cell_type": "markdown",
      "source": [
        "Step 4. Create a JSON file and store in temporary directory"
      ],
      "metadata": {
        "id": "dE4e4WC3jRCM"
      }
    },
    {
      "cell_type": "code",
      "source": [
        "# Creating a function that converts the json variable above to a json file\n",
        "def writeToJSONFile(path, fileName, data):\n",
        "    filePathNameWExt = path + '/' + fileName + '.json'\n",
        "    with open(filePathNameWExt, 'w') as fp:\n",
        "        json.dump(data, fp)\n",
        "\n",
        "path = '/tmp'\n",
        "fileName = 'Indeed_Data_JSON' # Can be renamed\n",
        "data = raw_json_str\n",
        "\n",
        "# Executing the function\n",
        "writeToJSONFile(path, fileName, data)"
      ],
      "metadata": {
        "id": "651GAdZmjny1"
      },
      "execution_count": 4,
      "outputs": []
    },
    {
      "cell_type": "markdown",
      "source": [
        "Step 5. Convert to CSV\n",
        "\n",
        "Note: This cell below will return an error because no API key has been included above. I purposely excluded it to avoid reaching my monthly API request quota."
      ],
      "metadata": {
        "id": "X4Y9Jc_7kYKo"
      }
    },
    {
      "cell_type": "code",
      "source": [
        "# Converting the JSON file to CSV format\n",
        "dataframe = pd.read_json('/tmp/Indeed_Data_JSON.json')\n",
        "dataframe.to_csv('/tmp/Indeed_Data_CSV.csv')"
      ],
      "metadata": {
        "id": "7p_QDxH5kUg5"
      },
      "execution_count": null,
      "outputs": []
    },
    {
      "cell_type": "markdown",
      "source": [
        "Step 6. Push CSV file to your Cloud Storage Buclet"
      ],
      "metadata": {
        "id": "v1Iy91Gxk1dE"
      }
    },
    {
      "cell_type": "code",
      "execution_count": null,
      "metadata": {
        "id": "IqvFB0dViLuV"
      },
      "outputs": [],
      "source": [
        "# Creating a function to push CSV file to Cloud Storage Bucket\n",
        "def push_to_gcs(file, bucket):\n",
        "    file_name = file.split('/')[-1]\n",
        "    print(f\"Pushing {file_name} to GCS...\")\n",
        "    blob = bucket.blob(file_name)\n",
        "    blob.upload_from_filename(file)\n",
        "    print(f\"File pushed to {blob.id} succesfully.\")\n",
        "\n",
        "file_name = 'Indeed_Data_CSV.csv' # This is your csv file created in step 5\n",
        "file_path = '/tmp/' + file_name\n",
        "\n",
        "# Move csv file to Cloud Storage\n",
        "storage_client = storage.Client()\n",
        "bucket_name = 'indeed_api_bucket' # This is your cloud storage bucket\n",
        "bucket = storage_client.get_bucket(bucket_name)\n",
        "push_to_gcs(file_path, bucket)\n",
        "    \n",
        "    "
      ]
    },
    {
      "cell_type": "markdown",
      "source": [
        "Step 7. Add your dependencies to the requirements.txt file"
      ],
      "metadata": {
        "id": "vjGnqwLMzQVD"
      }
    },
    {
      "cell_type": "code",
      "source": [
        "google-cloud-storage\n",
        "requests>=2.20.0\n",
        "pandas>=1.4.3"
      ],
      "metadata": {
        "id": "s7ipRk1qzYY-"
      },
      "execution_count": null,
      "outputs": []
    },
    {
      "cell_type": "markdown",
      "source": [
        "**Putting it all together:** Copy/Paste all of the code from steps 1-6 into the main.py tab of your Google Function. Rename the **Entry Point** 'push_to_gcs' (don't include the single quotes). Lastly, add the code from step 7 to the requirements.txt file. "
      ],
      "metadata": {
        "id": "iK4gGwkSzbmN"
      }
    },
    {
      "cell_type": "markdown",
      "source": [
        "**Success!** If you come across any errors when testing/deploying the function, be sure to check out the logs to determine the error reason. It should specify at which line the error occurred."
      ],
      "metadata": {
        "id": "c1SqTOy4k_qq"
      }
    }
  ]
}